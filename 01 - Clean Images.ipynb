{
 "cells": [
  {
   "cell_type": "markdown",
   "id": "80f3d28e-8319-4249-8fcd-cd00a1ca3cad",
   "metadata": {},
   "source": [
    "## Remove Duplicates"
   ]
  },
  {
   "cell_type": "code",
   "execution_count": null,
   "id": "9fe06b5a-33d3-45ce-9caa-51c8d98c84d8",
   "metadata": {},
   "outputs": [],
   "source": [
    "from collectmeterdigits.collect import ziffer_data_files, remove_similar_images\n",
    "import os"
   ]
  },
  {
   "cell_type": "code",
   "execution_count": null,
   "id": "edc70529-736c-496e-95e4-48b58c30425d",
   "metadata": {},
   "outputs": [],
   "source": [
    "#mode='digits'\n",
    "mode='analog'\n",
    "\n",
    "target_raw_path =  \"./raw_\"+mode   # here all raw digits are stored"
   ]
  },
  {
   "cell_type": "code",
   "execution_count": null,
   "id": "3c680b18-231e-4892-8698-9f0cb83e408b",
   "metadata": {},
   "outputs": [],
   "source": [
    "files = ziffer_data_files(target_raw_path)\n",
    "remove_similar_images(files, mode, saveDublicatesPath=target_raw_path+'_duplicates')"
   ]
  },
  {
   "cell_type": "code",
   "execution_count": null,
   "id": "22b0a110-7f4e-4e1f-a6cc-97078cb18adf",
   "metadata": {},
   "outputs": [],
   "source": []
  }
 ],
 "metadata": {
  "kernelspec": {
   "display_name": "Python 3",
   "language": "python",
   "name": "python3"
  },
  "language_info": {
   "codemirror_mode": {
    "name": "ipython",
    "version": 3
   },
   "file_extension": ".py",
   "mimetype": "text/x-python",
   "name": "python",
   "nbconvert_exporter": "python",
   "pygments_lexer": "ipython3",
   "version": "3.10.11"
  }
 },
 "nbformat": 4,
 "nbformat_minor": 5
}
