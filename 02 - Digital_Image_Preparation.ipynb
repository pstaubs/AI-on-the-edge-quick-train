{
 "cells": [
  {
   "cell_type": "markdown",
   "metadata": {},
   "source": [
    "# Image preparation\n",
    "\n",
    "The original image size is 55x90 pixels with a color depth of 3 (RGB).\n",
    "The below code can be used to transform the images in an input directory (Input_dir) to the right size (20x32 pixels) into an output directory (Output_dir). Inside the directory the pictures are stored in subdirectories according their labeling (0 ... 9 + NaN).\n",
    "Any other image converter can be used as well.\n",
    "\n",
    "### Prerequisite\n",
    "Installed OpenCV libary within python (opencv)"
   ]
  },
  {
   "cell_type": "code",
   "execution_count": null,
   "metadata": {},
   "outputs": [],
   "source": [
    "import glob\n",
    "import os\n",
    "from PIL import Image \n",
    "\n",
    "mode='digits'\n",
    "#mode='analog'\n",
    "\n",
    "Input_dir = 'raw_'+mode\n",
    "Output_dir= 'raw_'+mode+'_resized'\n",
    "\n",
    "if(mode=='digits'):\n",
    "    pattern = '/*/*.jpg'\n",
    "    target_size_x = 20\n",
    "    target_size_y = 32\n",
    "else:\n",
    "    pattern = '/*/*/*.jpg'\n",
    "    target_size_x = 32\n",
    "    target_size_y = 32\n",
    "\n"
   ]
  },
  {
   "cell_type": "code",
   "execution_count": null,
   "metadata": {},
   "outputs": [],
   "source": [
    "for i in list(range(10)):\n",
    "    if(mode=='digits'):\n",
    "        if(not os.path.exists(os.path.join(Input_dir,str(i)))): os.makedirs(os.path.join(Input_dir,str(i)))\n",
    "    else:\n",
    "        for j in list(range(10)):\n",
    "            if(not os.path.exists(os.path.join(Input_dir,str(i),str(j)))): os.makedirs(os.path.join(Input_dir,str(i),str(j)))\n",
    "        if(not os.path.exists(os.path.join(Input_dir,'N','N'))): os.makedirs(os.path.join(Input_dir,'N','N'))"
   ]
  },
  {
   "cell_type": "code",
   "execution_count": null,
   "metadata": {},
   "outputs": [],
   "source": [
    "files = glob.glob(Output_dir + pattern)\n",
    "i = 0\n",
    "for f in files:\n",
    "    os.remove(f)\n",
    "    i=i+1\n",
    "print(str(i) + \" files have been deleted.\")"
   ]
  },
  {
   "cell_type": "code",
   "execution_count": null,
   "metadata": {},
   "outputs": [],
   "source": [
    "files = glob.glob(Input_dir + pattern)\n",
    "print (len(files))\n",
    "count = 0\n",
    "for aktfile in files:\n",
    "    count = count + 1\n",
    "    dirs = aktfile.split(os.sep)\n",
    "    target = dirs[1]\n",
    "    test_image = Image.open(aktfile)\n",
    "    test_image = test_image.convert('RGB')\n",
    "    test_image = test_image.resize((target_size_x, target_size_y), Image.NEAREST)\n",
    "    target_dir = dirs[:-1]\n",
    "    target_dir[0] = Output_dir\n",
    "    if(not os.path.exists(os.path.join(*target_dir))): os.makedirs(os.path.join(*target_dir))\n",
    "    save_name = os.path.join(*target_dir,dirs[-1])\n",
    "#print(\"in: \" + aktfile + \"  -  out: \" + save_name)\n",
    "    test_image.save(save_name, \"JPEG\", quality=100)\n",
    "print(count)"
   ]
  },
  {
   "cell_type": "code",
   "execution_count": null,
   "metadata": {},
   "outputs": [],
   "source": []
  }
 ],
 "metadata": {
  "kernelspec": {
   "display_name": "Python 3",
   "language": "python",
   "name": "python3"
  },
  "language_info": {
   "codemirror_mode": {
    "name": "ipython",
    "version": 3
   },
   "file_extension": ".py",
   "mimetype": "text/x-python",
   "name": "python",
   "nbconvert_exporter": "python",
   "pygments_lexer": "ipython3",
   "version": "3.10.11"
  }
 },
 "nbformat": 4,
 "nbformat_minor": 4
}
